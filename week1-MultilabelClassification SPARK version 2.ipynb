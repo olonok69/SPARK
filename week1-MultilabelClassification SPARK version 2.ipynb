{
 "cells": [
  {
   "cell_type": "markdown",
   "metadata": {},
   "source": [
    "# Predict tags on StackOverflow with linear models"
   ]
  },
  {
   "cell_type": "markdown",
   "metadata": {},
   "source": [
    "In this assignment you will learn how to predict tags for posts from [StackOverflow](https://stackoverflow.com). To solve this task you will use multilabel classification approach.\n",
    "\n",
    "### Libraries\n",
    "\n",
    "In this task you will need the following libraries:\n",
    "- [Numpy](http://www.numpy.org) — a package for scientific computing.\n",
    "- [Pandas](https://pandas.pydata.org) — a library providing high-performance, easy-to-use data structures and data analysis tools for the Python\n",
    "- [scikit-learn](http://scikit-learn.org/stable/index.html) — a tool for data mining and data analysis.\n",
    "- [NLTK](http://www.nltk.org) — a platform to work with natural language."
   ]
  },
  {
   "cell_type": "markdown",
   "metadata": {},
   "source": [
    "### Data\n",
    "\n",
    "The following cell will download all data required for this assignment into the folder `week1/data`."
   ]
  },
  {
   "cell_type": "code",
   "execution_count": 1,
   "metadata": {
    "collapsed": true
   },
   "outputs": [],
   "source": [
    "import sys\n",
    "sys.path.append(\"..\")\n"
   ]
  },
  {
   "cell_type": "markdown",
   "metadata": {},
   "source": [
    "### Grading\n",
    "We will create a grader instace below and use it to collect your answers. Note that these outputs will be stored locally inside grader and will be uploaded to platform only after running submiting function in the last part of this assignment. If you want to make partial submission, you can run that cell any time you want."
   ]
  },
  {
   "cell_type": "code",
   "execution_count": 45,
   "metadata": {
    "collapsed": true
   },
   "outputs": [],
   "source": [
    "from pyspark.sql import SparkSession\n",
    "from pyspark import SparkContext\n",
    "from pyspark.sql import SQLContext\n",
    "from pyspark.sql.functions import *\n",
    "from pyspark.ml import Pipeline\n",
    "from pyspark.ml.feature import CountVectorizer\n",
    "from pyspark.ml.feature import HashingTF, IDF, Tokenizer, RegexTokenizer, StopWordsRemover\n",
    "from pyspark.ml.feature import OneHotEncoder, StringIndexer, VectorAssembler\n",
    "from pyspark.ml.classification import RandomForestClassifier, LogisticRegression, OneVsRest\n",
    "from pyspark.ml.evaluation import MulticlassClassificationEvaluator\n",
    "from pyspark.ml.feature import Word2Vec"
   ]
  },
  {
   "cell_type": "code",
   "execution_count": 46,
   "metadata": {
    "collapsed": true
   },
   "outputs": [],
   "source": [
    "spark = SparkSession.builder.appName('NLP').getOrCreate()"
   ]
  },
  {
   "cell_type": "markdown",
   "metadata": {},
   "source": [
    "### Text preprocessing"
   ]
  },
  {
   "cell_type": "markdown",
   "metadata": {},
   "source": [
    "For this and most of the following assignments you will need to use a list of stop words. It can be downloaded from *nltk*:"
   ]
  },
  {
   "cell_type": "markdown",
   "metadata": {},
   "source": [
    "In this task you will deal with a dataset of post titles from StackOverflow. You are provided a split to 3 sets: *train*, *validation* and *test*. All corpora (except for *test*) contain titles of the posts and corresponding tags (100 tags are available). The *test* set is provided for Coursera's grading and doesn't contain answers. Upload the corpora using *pandas* and look at the data:"
   ]
  },
  {
   "cell_type": "code",
   "execution_count": 47,
   "metadata": {
    "collapsed": true
   },
   "outputs": [],
   "source": [
    "train = spark.read.csv('data/train.tsv',inferSchema=True,header=True,sep='\\t')\n",
    "#validation=spark.read.csv('data/validation.tsv',inferSchema=True,header=True,sep='\\t')\n",
    "#test = spark.read.csv('data/test.tsv',inferSchema=True,header=True,sep='\\t')"
   ]
  },
  {
   "cell_type": "code",
   "execution_count": 48,
   "metadata": {
    "collapsed": true
   },
   "outputs": [],
   "source": [
    "#Column title remove punctuation and to lower. respect # and + because of C# and c++\n",
    "train = train.withColumn('title', lower(regexp_replace(train.title, '[^A-Za-z0-9#+ ]+', ' ')))\n",
    "#validation = validation.withColumn('title', lower(regexp_replace(validation.title, '[^A-Za-z0-9#+ ]+', ' ')))\n",
    "#test = test.withColumn('title', lower(regexp_replace(test.title, '[^A-Za-z0-9#+ ]+', ' ')))\n"
   ]
  },
  {
   "cell_type": "code",
   "execution_count": 49,
   "metadata": {},
   "outputs": [
    {
     "name": "stdout",
     "output_type": "stream",
     "text": [
      "+--------------------+--------------------+\n",
      "|                tags|              tags_1|\n",
      "+--------------------+--------------------+\n",
      "|               ['r']|               ['r']|\n",
      "|    ['php', 'mysql']|    ['php', 'mysql']|\n",
      "|              ['c#']|              ['c#']|\n",
      "|['javascript', 'j...|['javascript', 'j...|\n",
      "|            ['java']|            ['java']|\n",
      "|   ['ruby-on-rails']|   ['ruby-on-rails']|\n",
      "|['ruby', 'ruby-on...|['ruby', 'ruby-on...|\n",
      "|            ['ruby']|            ['ruby']|\n",
      "|['java', 'spring'...|['java', 'spring'...|\n",
      "|['php', 'codeigni...|['php', 'codeigni...|\n",
      "|   ['java', 'class']|   ['java', 'class']|\n",
      "|['javascript', 'j...|['javascript', 'j...|\n",
      "|['javascript', 'j...|['javascript', 'j...|\n",
      "|  ['c++', 'eclipse']|  ['c++', 'eclipse']|\n",
      "|      ['javascript']|      ['javascript']|\n",
      "|  ['python', 'list']|  ['python', 'list']|\n",
      "|['ios', 'objectiv...|['ios', 'objectiv...|\n",
      "|['ios', 'json', '...|['ios', 'json', '...|\n",
      "|      ['c#', 'xaml']|      ['c#', 'xaml']|\n",
      "|   ['c#', 'asp.net']|   ['c#', 'asp.net']|\n",
      "|['c#', 'wpf', 'mu...|['c#', 'wpf', 'mu...|\n",
      "|  ['python', 'ruby']|  ['python', 'ruby']|\n",
      "|['php', 'image', ...|['php', 'image', ...|\n",
      "|['java', 'perform...|['java', 'perform...|\n",
      "|['javascript', 'j...|['javascript', 'j...|\n",
      "|      ['c#', 'linq']|      ['c#', 'linq']|\n",
      "|   ['python', 'xml']|   ['python', 'xml']|\n",
      "|              ['c#']|              ['c#']|\n",
      "|          ['python']|          ['python']|\n",
      "| ['python', 'numpy']| ['python', 'numpy']|\n",
      "|['javascript', 'j...|['javascript', 'j...|\n",
      "|            ['ruby']|            ['ruby']|\n",
      "|['javascript', 'j...|['javascript', 'j...|\n",
      "|      ['c#', 'json']|      ['c#', 'json']|\n",
      "|          ['django']|          ['django']|\n",
      "|      ['javascript']|      ['javascript']|\n",
      "|['java', 'multith...|['java', 'multith...|\n",
      "|['php', 'jquery',...|['php', 'jquery',...|\n",
      "|['javascript', 'j...|['javascript', 'j...|\n",
      "|               ['r']|               ['r']|\n",
      "|['java', 'android...|['java', 'android...|\n",
      "|             ['c++']|             ['c++']|\n",
      "|['c#', 'asp.net',...|['c#', 'asp.net',...|\n",
      "|      ['c#', 'linq']|      ['c#', 'linq']|\n",
      "|['javascript', 's...|['javascript', 's...|\n",
      "|   ['java', 'excel']|   ['java', 'excel']|\n",
      "|          ['python']|          ['python']|\n",
      "|['c#', 'mysql', '...|['c#', 'mysql', '...|\n",
      "|            ['java']|            ['java']|\n",
      "|    ['php', 'mysql']|    ['php', 'mysql']|\n",
      "|['c#', 'asp.net',...|['c#', 'asp.net',...|\n",
      "|  ['java', 'arrays']|  ['java', 'arrays']|\n",
      "|             ['php']|             ['php']|\n",
      "|            ['java']|            ['java']|\n",
      "|          ['python']|          ['python']|\n",
      "|['c++', 'c', 'soc...|['c++', 'c', 'soc...|\n",
      "|['ruby-on-rails',...|['ruby-on-rails',...|\n",
      "|               ['c']|               ['c']|\n",
      "|  ['php', 'laravel']|  ['php', 'laravel']|\n",
      "|['c#', 'asp.net',...|['c#', 'asp.net',...|\n",
      "|      ['javascript']|      ['javascript']|\n",
      "|['c#', 'linq', 'l...|['c#', 'linq', 'l...|\n",
      "|['javascript', 'h...|['javascript', 'h...|\n",
      "|    ['java', 'json']|    ['java', 'json']|\n",
      "|['javascript', 'j...|['javascript', 'j...|\n",
      "|['android', 'c++'...|['android', 'c++'...|\n",
      "|             ['php']|             ['php']|\n",
      "|       ['c#', 'wpf']|       ['c#', 'wpf']|\n",
      "|['ios', 'xcode', ...|['ios', 'xcode', ...|\n",
      "|['c++', 'c', 'alg...|['c++', 'c', 'alg...|\n",
      "|      ['javascript']|      ['javascript']|\n",
      "|['php', 'javascri...|['php', 'javascri...|\n",
      "|['c#', 'asp.net-m...|['c#', 'asp.net-m...|\n",
      "|            ['java']|            ['java']|\n",
      "|   ['c#', 'asp.net']|   ['c#', 'asp.net']|\n",
      "|          ['python']|          ['python']|\n",
      "|['python', 'pytho...|['python', 'pytho...|\n",
      "|['python', 'multi...|['python', 'multi...|\n",
      "|['java', 'android...|['java', 'android...|\n",
      "|              ['c#']|              ['c#']|\n",
      "|['ios', 'objectiv...|['ios', 'objectiv...|\n",
      "|['javascript', 'j...|['javascript', 'j...|\n",
      "|          ['python']|          ['python']|\n",
      "|['javascript', 'j...|['javascript', 'j...|\n",
      "|['javascript', 'a...|['javascript', 'a...|\n",
      "|   ['java', 'swing']|   ['java', 'swing']|\n",
      "|             ['php']|             ['php']|\n",
      "|    ['c++', 'class']|    ['c++', 'class']|\n",
      "|          ['python']|          ['python']|\n",
      "|['java', 'json', ...|['java', 'json', ...|\n",
      "|['c#', '.net', 'x...|['c#', '.net', 'x...|\n",
      "|['objective-c', '...|['objective-c', '...|\n",
      "|             ['c++']|             ['c++']|\n",
      "|          ['python']|          ['python']|\n",
      "|          ['vb.net']|          ['vb.net']|\n",
      "|['c#', 'jquery', ...|['c#', 'jquery', ...|\n",
      "|['mysql', 'ruby-o...|['mysql', 'ruby-o...|\n",
      "|          ['python']|          ['python']|\n",
      "|['php', 'javascri...|['php', 'javascri...|\n",
      "|['java', 'spring'...|['java', 'spring'...|\n",
      "|['java', 'html', ...|['java', 'html', ...|\n",
      "|['javascript', 'g...|['javascript', 'g...|\n",
      "|['javascript', 'w...|['javascript', 'w...|\n",
      "|     ['c#', 'excel']|     ['c#', 'excel']|\n",
      "|['iphone', 'objec...|['iphone', 'objec...|\n",
      "|               ['r']|               ['r']|\n",
      "|['java', 'sql', '...|['java', 'sql', '...|\n",
      "|      ['javascript']|      ['javascript']|\n",
      "|      ['javascript']|      ['javascript']|\n",
      "|['c#', 'visual-st...|['c#', 'visual-st...|\n",
      "|['python', 'django']|['python', 'django']|\n",
      "|      ['c#', 'json']|      ['c#', 'json']|\n",
      "|      ['javascript']|      ['javascript']|\n",
      "|['ios', 'objectiv...|['ios', 'objectiv...|\n",
      "|      ['c', 'linux']|      ['c', 'linux']|\n",
      "|             ['php']|             ['php']|\n",
      "| ['php', 'facebook']| ['php', 'facebook']|\n",
      "|['javascript', 'j...|['javascript', 'j...|\n",
      "| ['java', 'android']| ['java', 'android']|\n",
      "|['php', 'mysql', ...|['php', 'mysql', ...|\n",
      "|['javascript', 'j...|['javascript', 'j...|\n",
      "|['python', 'mysql...|['python', 'mysql...|\n",
      "|      ['javascript']|      ['javascript']|\n",
      "|['java', 'multith...|['java', 'multith...|\n",
      "|       ['c#', 'wpf']|       ['c#', 'wpf']|\n",
      "|['javascript', 'd...|['javascript', 'd...|\n",
      "|['python', 'strin...|['python', 'strin...|\n",
      "|       ['c', 'file']|       ['c', 'file']|\n",
      "|['c#', 'entity-fr...|['c#', 'entity-fr...|\n",
      "|   ['ruby-on-rails']|   ['ruby-on-rails']|\n",
      "|  ['android', 'c++']|  ['android', 'c++']|\n",
      "|['php', 'mysql', ...|['php', 'mysql', ...|\n",
      "|       ['c#', 'sql']|       ['c#', 'sql']|\n",
      "|['vb.net', 'visua...|['vb.net', 'visua...|\n",
      "|   ['java', 'regex']|   ['java', 'regex']|\n",
      "|['javascript', 'p...|['javascript', 'p...|\n",
      "|             ['php']|             ['php']|\n",
      "| ['php', 'facebook']| ['php', 'facebook']|\n",
      "|['java', 'spring'...|['java', 'spring'...|\n",
      "|     ['c', 'arrays']|     ['c', 'arrays']|\n",
      "|['c#', 'asp.net',...|['c#', 'asp.net',...|\n",
      "|      ['javascript']|      ['javascript']|\n",
      "|['java', 'xml', '...|['java', 'xml', '...|\n",
      "|['java', 'csv', '...|['java', 'csv', '...|\n",
      "|['javascript', 'a...|['javascript', 'a...|\n",
      "|            ['java']|            ['java']|\n",
      "|     ['objective-c']|     ['objective-c']|\n",
      "|             ['php']|             ['php']|\n",
      "|['iphone', 'objec...|['iphone', 'objec...|\n",
      "|              ['c#']|              ['c#']|\n",
      "|['php', 'mysql', ...|['php', 'mysql', ...|\n",
      "|['java', 'multith...|['java', 'multith...|\n",
      "|   ['c#', 'asp.net']|   ['c#', 'asp.net']|\n",
      "|              ['c#']|              ['c#']|\n",
      "|  ['php', 'laravel']|  ['php', 'laravel']|\n",
      "|            ['java']|            ['java']|\n",
      "| ['java', 'android']| ['java', 'android']|\n",
      "|             ['c++']|             ['c++']|\n",
      "|             ['php']|             ['php']|\n",
      "|   ['ruby-on-rails']|   ['ruby-on-rails']|\n",
      "|              ['c#']|              ['c#']|\n",
      "|            ['java']|            ['java']|\n",
      "|['java', 'android...|['java', 'android...|\n",
      "|['javascript', 'h...|['javascript', 'h...|\n",
      "|['javascript', 'j...|['javascript', 'j...|\n",
      "|   ['ruby-on-rails']|   ['ruby-on-rails']|\n",
      "|['javascript', 'j...|['javascript', 'j...|\n",
      "|['iphone', 'objec...|['iphone', 'objec...|\n",
      "|['javascript', 's...|['javascript', 's...|\n",
      "|['c#', 'asp.net-m...|['c#', 'asp.net-m...|\n",
      "|             ['c++']|             ['c++']|\n",
      "|['python', 'parsi...|['python', 'parsi...|\n",
      "|['php', 'jquery',...|['php', 'jquery',...|\n",
      "|             ['php']|             ['php']|\n",
      "|['jquery', 'pytho...|['jquery', 'pytho...|\n",
      "|            ['java']|            ['java']|\n",
      "|['javascript', 'm...|['javascript', 'm...|\n",
      "|            ['java']|            ['java']|\n",
      "|['javascript', 'r...|['javascript', 'r...|\n",
      "|['javascript', 'j...|['javascript', 'j...|\n",
      "|            ['java']|            ['java']|\n",
      "|     ['php', 'json']|     ['php', 'json']|\n",
      "|     ['php', 'html']|     ['php', 'html']|\n",
      "|          ['python']|          ['python']|\n",
      "|             ['php']|             ['php']|\n",
      "|['django', 'pytho...|['django', 'pytho...|\n",
      "|   ['r', 'function']|   ['r', 'function']|\n",
      "|      ['javascript']|      ['javascript']|\n",
      "|   ['c#', 'asp.net']|   ['c#', 'asp.net']|\n",
      "| ['java', 'parsing']| ['java', 'parsing']|\n",
      "|      ['javascript']|      ['javascript']|\n",
      "|['javascript', 'h...|['javascript', 'h...|\n",
      "|['php', 'html', '...|['php', 'html', '...|\n",
      "|['python', 'numpy...|['python', 'numpy...|\n",
      "|['javascript', 'h...|['javascript', 'h...|\n",
      "|['ios', 'objectiv...|['ios', 'objectiv...|\n",
      "|    ['php', 'mysql']|    ['php', 'mysql']|\n",
      "|  ['c#', 'winforms']|  ['c#', 'winforms']|\n",
      "|['python', 'osx',...|['python', 'osx',...|\n",
      "|       ['c#', 'wpf']|       ['c#', 'wpf']|\n",
      "|          ['vb.net']|          ['vb.net']|\n",
      "|            ['java']|            ['java']|\n",
      "|   ['c#', 'asp.net']|   ['c#', 'asp.net']|\n",
      "|      ['javascript']|      ['javascript']|\n",
      "|           ['swift']|           ['swift']|\n",
      "|['c#', 'asp.net',...|['c#', 'asp.net',...|\n",
      "|              ['c#']|              ['c#']|\n",
      "|            ['java']|            ['java']|\n",
      "|             ['c++']|             ['c++']|\n",
      "|            ['java']|            ['java']|\n",
      "|['javascript', 'h...|['javascript', 'h...|\n",
      "|              ['c#']|              ['c#']|\n",
      "|['ruby-on-rails',...|['ruby-on-rails',...|\n",
      "|['ruby-on-rails',...|['ruby-on-rails',...|\n",
      "|              ['c#']|              ['c#']|\n",
      "|['ruby-on-rails',...|['ruby-on-rails',...|\n",
      "|             ['c++']|             ['c++']|\n",
      "|              ['c#']|              ['c#']|\n",
      "|['javascript', 'a...|['javascript', 'a...|\n",
      "|       ['c#', 'c++']|       ['c#', 'c++']|\n",
      "|['c#', 'multithre...|['c#', 'multithre...|\n",
      "|['javascript', 'v...|['javascript', 'v...|\n",
      "|          ['python']|          ['python']|\n",
      "|      ['javascript']|      ['javascript']|\n",
      "|             ['php']|             ['php']|\n",
      "|             ['c++']|             ['c++']|\n",
      "|             ['php']|             ['php']|\n",
      "|    ['ios', 'swift']|    ['ios', 'swift']|\n",
      "|                null|           ['NoTag']|\n",
      "|['php', 'javascri...|['php', 'javascri...|\n",
      "|            ['java']|            ['java']|\n",
      "|  ['php', 'laravel']|  ['php', 'laravel']|\n",
      "|   ['php', 'arrays']|   ['php', 'arrays']|\n",
      "|            ['ruby']|            ['ruby']|\n",
      "|['java', 'android...|['java', 'android...|\n",
      "|['php', 'codeigni...|['php', 'codeigni...|\n",
      "|             ['c++']|             ['c++']|\n",
      "|  ['python', 'file']|  ['python', 'file']|\n",
      "|['objective-c', '...|['objective-c', '...|\n",
      "| ['java', 'eclipse']| ['java', 'eclipse']|\n",
      "|['c#', '.net', 'l...|['c#', '.net', 'l...|\n",
      "|['python', 'sorti...|['python', 'sorti...|\n",
      "|      ['c#', '.net']|      ['c#', '.net']|\n",
      "|       ['c++', 'qt']|       ['c++', 'qt']|\n",
      "|              ['c#']|              ['c#']|\n",
      "|['javascript', 'a...|['javascript', 'a...|\n",
      "|['php', 'javascri...|['php', 'javascri...|\n",
      "|            ['java']|            ['java']|\n",
      "|   ['function', 'r']|   ['function', 'r']|\n",
      "|             ['php']|             ['php']|\n",
      "|['python', 'pytho...|['python', 'pytho...|\n",
      "|            ['ruby']|            ['ruby']|\n",
      "|['c#', 'wpf', 'wi...|['c#', 'wpf', 'wi...|\n",
      "|['javascript', 'j...|['javascript', 'j...|\n",
      "|['javascript', 'w...|['javascript', 'w...|\n",
      "|            ['java']|            ['java']|\n",
      "|      ['javascript']|      ['javascript']|\n",
      "|             ['php']|             ['php']|\n",
      "|     ['c#', 'excel']|     ['c#', 'excel']|\n",
      "|     ['objective-c']|     ['objective-c']|\n",
      "|['java', 'generics']|['java', 'generics']|\n",
      "|             ['c++']|             ['c++']|\n",
      "|   ['c#', 'asp.net']|   ['c#', 'asp.net']|\n",
      "|['php', 'wcf', 'w...|['php', 'wcf', 'w...|\n",
      "|['ios', 'objectiv...|['ios', 'objectiv...|\n",
      "|            ['java']|            ['java']|\n",
      "|             ['php']|             ['php']|\n",
      "|    ['php', 'regex']|    ['php', 'regex']|\n",
      "|             ['c++']|             ['c++']|\n",
      "|              ['c#']|              ['c#']|\n",
      "|   ['java', 'swing']|   ['java', 'swing']|\n",
      "|     ['c#', 'regex']|     ['c#', 'regex']|\n",
      "|              ['c#']|              ['c#']|\n",
      "|['javascript', 'j...|['javascript', 'j...|\n",
      "|    ['c', 'eclipse']|    ['c', 'eclipse']|\n",
      "|['c#', 'asp.net-m...|['c#', 'asp.net-m...|\n",
      "|['php', 'wordpress']|['php', 'wordpress']|\n",
      "|              ['c#']|              ['c#']|\n",
      "|   ['c++', 'opencv']|   ['c++', 'opencv']|\n",
      "|['c#', '.net', 'v...|['c#', '.net', 'v...|\n",
      "|          ['python']|          ['python']|\n",
      "|['ruby-on-rails',...|['ruby-on-rails',...|\n",
      "|['php', 'javascri...|['php', 'javascri...|\n",
      "|['java', 'generics']|['java', 'generics']|\n",
      "|              ['c#']|              ['c#']|\n",
      "|['javascript', 'n...|['javascript', 'n...|\n",
      "|  ['java', 'spring']|  ['java', 'spring']|\n",
      "|             ['c++']|             ['c++']|\n",
      "|        ['c++', 'c']|        ['c++', 'c']|\n",
      "|               ['c']|               ['c']|\n",
      "+--------------------+--------------------+\n",
      "only showing top 290 rows\n",
      "\n"
     ]
    }
   ],
   "source": [
    "# tags in null replace with NoTag \n",
    "train = train.withColumn('tags_1', when( train.tags.isNull(), \"['NoTag']\").otherwise(train.tags))\n",
    "#validation = validation.withColumn('tags_1', when( validation.tags.isNull(), \"['NoTag']\").otherwise(validation.tags))\n",
    "#train=train.na.fill('NA')\n",
    "train.select('tags','tags_1').show(truncate=True, n=290)\n"
   ]
  },
  {
   "cell_type": "code",
   "execution_count": 50,
   "metadata": {},
   "outputs": [
    {
     "name": "stdout",
     "output_type": "stream",
     "text": [
      "+--------------------+----+---------+\n",
      "|               title|tags|   tags_1|\n",
      "+--------------------+----+---------+\n",
      "| n  or  n  or std...|null|['NoTag']|\n",
      "|python   comma in...|null|['NoTag']|\n",
      "|remove escape cha...|null|['NoTag']|\n",
      "|can r paste  outp...|null|['NoTag']|\n",
      "|how do you write ...|null|['NoTag']|\n",
      "|c# hex byte 0x09 ...|null|['NoTag']|\n",
      "|how to get rid of...|null|['NoTag']|\n",
      "|cannot run progra...|null|['NoTag']|\n",
      "|using  n  in scan...|null|['NoTag']|\n",
      "|an error  +  is a...|null|['NoTag']|\n",
      "|remove the last  ...|null|['NoTag']|\n",
      "|how to remove tho...|null|['NoTag']|\n",
      "|how to convert a ...|null|['NoTag']|\n",
      "|how can i remove ...|null|['NoTag']|\n",
      "|what does  u001b ...|null|['NoTag']|\n",
      "|php error log out...|null|['NoTag']|\n",
      "|array of uibutton...|null|['NoTag']|\n",
      "|how to find strin...|null|['NoTag']|\n",
      "|json loads jsonst...|null|['NoTag']|\n",
      "|what is the diffe...|null|['NoTag']|\n",
      "+--------------------+----+---------+\n",
      "only showing top 20 rows\n",
      "\n"
     ]
    }
   ],
   "source": [
    "train.filter(\"tags is NULL\").show()"
   ]
  },
  {
   "cell_type": "code",
   "execution_count": 51,
   "metadata": {
    "collapsed": true
   },
   "outputs": [],
   "source": [
    "#validation.select('tags','tags_1').show(truncate=True, n=290)"
   ]
  },
  {
   "cell_type": "code",
   "execution_count": 52,
   "metadata": {
    "collapsed": true
   },
   "outputs": [],
   "source": [
    "# Pipeline Tokenizers and remove stop words\n",
    "\n",
    "regexTokenizer = RegexTokenizer(inputCol=\"title\", outputCol=\"words\", pattern=\"\\\\W\")\n",
    "regexTokenizer2 = RegexTokenizer(inputCol=\"tags_1\", outputCol=\"tags_2\", pattern=\"[^A-Za-z0-9#+]+\")\n",
    "\n",
    "remover = StopWordsRemover(inputCol=\"words\", outputCol=\"filtered\")\n",
    "\n",
    "train_trans = Pipeline(stages=[regexTokenizer,regexTokenizer2,remover]).fit(train).transform(train)\n",
    "#val_trans = Pipeline(stages=[regexTokenizer,regexTokenizer2, remover]).fit(validation).transform(validation)\n",
    "#test_trans = Pipeline(stages=[regexTokenizer, remover]).fit(test).transform(test)"
   ]
  },
  {
   "cell_type": "markdown",
   "metadata": {},
   "source": [
    "As you can see, *title* column contains titles of the posts and *tags* colum countains the tags. It could be noticed that a number of tags for a post is not fixed and could be as many as necessary."
   ]
  },
  {
   "cell_type": "code",
   "execution_count": 66,
   "metadata": {},
   "outputs": [],
   "source": [
    "from pyspark.sql.types import IntegerType\n",
    "\n",
    "countTokens = udf(lambda words: len(words), IntegerType())\n",
    "countw=train_trans.select(\"title\", \"words\").withColumn(\"tokens\", countTokens(col(\"words\")))"
   ]
  },
  {
   "cell_type": "code",
   "execution_count": 71,
   "metadata": {},
   "outputs": [
    {
     "name": "stdout",
     "output_type": "stream",
     "text": [
      "+--------------------+--------------------+------+\n",
      "|               title|               words|tokens|\n",
      "+--------------------+--------------------+------+\n",
      "|how to merge a ja...|[how, to, merge, ...|    30|\n",
      "|python   how to c...|[python, how, to,...|    29|\n",
      "|i am using struts...|[i, am, using, st...|    29|\n",
      "|how to create arr...|[how, to, create,...|    29|\n",
      "|javascript window...|[javascript, wind...|    29|\n",
      "|how do i implemen...|[how, do, i, impl...|    28|\n",
      "|when an object ha...|[when, an, object...|    28|\n",
      "|how do i sense if...|[how, do, i, sens...|    28|\n",
      "|how do i create a...|[how, do, i, crea...|    28|\n",
      "|in c  how do i ch...|[in, c, how, do, ...|    28|\n",
      "|is it possible to...|[is, it, possible...|    28|\n",
      "|binary and linear...|[binary, and, lin...|    28|\n",
      "|how to make my pa...|[how, to, make, m...|    28|\n",
      "| to make that inp...|[to, make, that, ...|    28|\n",
      "|how to make a rec...|[how, to, make, a...|    27|\n",
      "| i am new to java...|[i, am, new, to, ...|    27|\n",
      "|how to calculate ...|[how, to, calcula...|    27|\n",
      "|fatal error  call...|[fatal, error, ca...|    27|\n",
      "|error when starti...|[error, when, sta...|    27|\n",
      "|python gui progra...|[python, gui, pro...|    27|\n",
      "+--------------------+--------------------+------+\n",
      "only showing top 20 rows\n",
      "\n"
     ]
    }
   ],
   "source": [
    "#count number of tokens per title\n",
    "countw.sort(desc('tokens')).show()"
   ]
  },
  {
   "cell_type": "code",
   "execution_count": 72,
   "metadata": {},
   "outputs": [],
   "source": [
    "#Word TO VEC\n",
    "word2Vec = Word2Vec(vectorSize=30, minCount=1,inputCol=\"filtered\", outputCol=\"features\")\n",
    "model = word2Vec.fit(train_trans)\n",
    "\n",
    "result = model.transform(train_trans)"
   ]
  },
  {
   "cell_type": "code",
   "execution_count": 73,
   "metadata": {},
   "outputs": [
    {
     "name": "stdout",
     "output_type": "stream",
     "text": [
      "+-----------------------------------------------------------------+--------------------------------------------------------------------------------------------------------------------------------------------------------------------------------------------------------------------------------------------------------------------------------------------------------------------------------------------------------------------------------------------------------------------------------------------------------------------------------------------------------------------------------------------------------------------------------------------------------------------------------------------+\n",
      "|filtered                                                         |features                                                                                                                                                                                                                                                                                                                                                                                                                                                                                                                                                                                                                                    |\n",
      "+-----------------------------------------------------------------+--------------------------------------------------------------------------------------------------------------------------------------------------------------------------------------------------------------------------------------------------------------------------------------------------------------------------------------------------------------------------------------------------------------------------------------------------------------------------------------------------------------------------------------------------------------------------------------------------------------------------------------------+\n",
      "|[draw, stacked, dotplot, r]                                      |[0.08730552755150711,0.07707570516504347,-0.015491534257307649,0.01456820429302752,-0.17539449501782656,-0.06364714429946616,-0.09064739476161776,-0.061933747958391905,0.07617799565196037,0.05250404519028962,-0.12091316585429013,0.063978620339185,0.1528253369142476,-0.10084746184293181,0.07915626699104905,-0.1312136312481016,0.003562734229490161,0.06923845608253032,0.16574967536143959,0.2018247484229505,0.03230209369212389,0.19379512732848525,0.09412808454362676,0.13417931040748954,0.09935449996737589,-0.013250755553599447,0.005067083053290844,-0.21907558315433562,0.007801209110766649,0.008064245688728988]       |\n",
      "|[mysql, select, records, datetime, field, less, specified, value]|[0.34796910732984543,0.2915215268731117,-0.04389695142162964,0.07869731518439949,-0.2233939787838608,-0.0973637819988653,-0.11398209305480123,-0.19665444968268275,-0.058859941200353205,0.075390481390059,-0.2503714729100466,-0.42281611589714885,-0.0458722677140031,-0.12176234927028418,-0.2722185691818595,-0.15097595594124869,-0.034621734637767076,-0.3385669058188796,0.0024803284904919565,-0.043668119673384354,-0.26881312672048807,-0.23763046802196186,0.008159078657627106,-0.30652730260044336,-0.029821322299540043,-0.0848967747297138,0.02416791155701503,-0.17239209823310375,-0.08358197589404881,0.32900422159582376]|\n",
      "+-----------------------------------------------------------------+--------------------------------------------------------------------------------------------------------------------------------------------------------------------------------------------------------------------------------------------------------------------------------------------------------------------------------------------------------------------------------------------------------------------------------------------------------------------------------------------------------------------------------------------------------------------------------------------------------------------------------------------+\n",
      "only showing top 2 rows\n",
      "\n"
     ]
    }
   ],
   "source": [
    "result.select('filtered','features').show(n=2, truncate=False)"
   ]
  },
  {
   "cell_type": "code",
   "execution_count": 10,
   "metadata": {
    "collapsed": true
   },
   "outputs": [],
   "source": [
    "#BAG OF WORDS\n",
    "\n",
    "DICT_SIZE = 24000\n",
    "# Input data: Each row is a bag of words with a ID.\n",
    "\n",
    "# fit a CountVectorizerModel from the corpus TRAIN DATASET\n",
    "cv = CountVectorizer(inputCol=\"filtered\", outputCol=\"features\", vocabSize=DICT_SIZE, minDF=1.0)\n",
    "model = cv.fit(train_trans)\n",
    "result = model.transform(train_trans)\n",
    "\n",
    "#VALIDATION DATASET\n",
    "#cvv = CountVectorizer(inputCol=\"filtered\", outputCol=\"features\", vocabSize=DICT_SIZE, minDF=2.0)\n",
    "#modelv = cvv.fit(dataset2)\n",
    "#resultv = modelv.transform(dataset2)\n",
    "\n",
    "#result.select('filtered','features').show(truncate=False, n=2)\n",
    "#result.select('features','filtered').show()"
   ]
  },
  {
   "cell_type": "code",
   "execution_count": 11,
   "metadata": {},
   "outputs": [
    {
     "name": "stdout",
     "output_type": "stream",
     "text": [
      "+-----------------------------------------------------------------+-------------------------------------------------------------------------+\n",
      "|filtered                                                         |features                                                                 |\n",
      "+-----------------------------------------------------------------+-------------------------------------------------------------------------+\n",
      "|[draw, stacked, dotplot, r]                                      |(23540,[94,627,2797,12459],[1.0,1.0,1.0,1.0])                            |\n",
      "|[mysql, select, records, datetime, field, less, specified, value]|(23540,[13,32,85,118,258,631,677,1135],[1.0,1.0,1.0,1.0,1.0,1.0,1.0,1.0])|\n",
      "+-----------------------------------------------------------------+-------------------------------------------------------------------------+\n",
      "only showing top 2 rows\n",
      "\n"
     ]
    }
   ],
   "source": [
    "result.select('filtered','features').show(truncate=False, n=2)"
   ]
  },
  {
   "cell_type": "code",
   "execution_count": 12,
   "metadata": {},
   "outputs": [
    {
     "name": "stdout",
     "output_type": "stream",
     "text": [
      "+-----------------------------------------------------------------+----------------------------------------------------------------------------------------------------------------------------------------------------------------------------------------------------+\n",
      "|filtered                                                         |features                                                                                                                                                                                            |\n",
      "+-----------------------------------------------------------------+----------------------------------------------------------------------------------------------------------------------------------------------------------------------------------------------------+\n",
      "|[draw, stacked, dotplot, r]                                      |(24000,[1570,8167,8935,9797],[4.643921014254523,6.314438433654403,8.334881634572284,8.804885263818019])                                                                                             |\n",
      "|[mysql, select, records, datetime, field, less, specified, value]|(24000,[585,4768,7195,7824,9175,12465,13413,16721],[5.504122279477634,3.4514485980489025,7.047027346265645,6.331151914628144,6.41306903709603,4.0863863925229245,4.8208517224136,4.549745479049991])|\n",
      "+-----------------------------------------------------------------+----------------------------------------------------------------------------------------------------------------------------------------------------------------------------------------------------+\n",
      "only showing top 2 rows\n",
      "\n"
     ]
    }
   ],
   "source": [
    "#TF-IDF \n",
    "\n",
    "DICT_SIZE = 24000\n",
    "hashingTF = HashingTF(inputCol=\"filtered\", outputCol=\"rawFeatures\", numFeatures=DICT_SIZE)\n",
    "featurizedData = hashingTF.transform(train_trans)#TRAIN\n",
    "#featurizedDatav = hashingTF.transform(dataset2)#VALIDATION\n",
    "# alternatively, CountVectorizer can also be used to get term frequency vectors\n",
    "\n",
    "idf = IDF(inputCol=\"rawFeatures\", outputCol=\"features\")\n",
    "idfModel = idf.fit(featurizedData)#TRAIN\n",
    "#idfModelv = idf.fit(featurizedDatav)#VALIDATION\n",
    "rescaledData = idfModel.transform(featurizedData)#TRAIN\n",
    "#rescaledDatav = idfModelv.transform(featurizedDatav)#VALIDATION\n",
    "\n",
    "rescaledData.select(\"filtered\", \"features\").show(truncate=False, n=2)"
   ]
  },
  {
   "cell_type": "code",
   "execution_count": 13,
   "metadata": {
    "collapsed": true
   },
   "outputs": [],
   "source": [
    "#Concatenate all tags to create a single class\n",
    "# It doest work as produce more than 7000 different classes and program goes out of memory\n",
    "\n",
    "#y_train=train_trans.withColumn('tags_3',concat_ws('_', 'tags_2'))\n",
    "#y_val=val_trans.withColumn('tags_3',concat_ws('_', 'tags_2'))"
   ]
  },
  {
   "cell_type": "code",
   "execution_count": 14,
   "metadata": {
    "collapsed": true
   },
   "outputs": [],
   "source": [
    "#y_train.select('tags_3').show(truncate=False, n=300)"
   ]
  },
  {
   "cell_type": "markdown",
   "metadata": {},
   "source": [
    "For a more comfortable usage, initialize *X_train*, *X_val*, *X_test*, *y_train*, *y_val*."
   ]
  },
  {
   "cell_type": "code",
   "execution_count": 15,
   "metadata": {
    "collapsed": true
   },
   "outputs": [],
   "source": [
    "#X_train=train_trans.select('filtered')\n",
    "#X_val =val_trans.select('filtered')\n",
    "#X_test=test_trans.select('filtered')"
   ]
  },
  {
   "cell_type": "markdown",
   "metadata": {},
   "source": [
    "One of the most known difficulties when working with natural data is that it's unstructured. For example, if you use it \"as is\" and extract tokens just by splitting the titles by whitespaces, you will see that there are many \"weird\" tokens like *3.5?*, *\"Flip*, etc. To prevent the problems, it's usually useful to prepare the data somehow. In this task you'll write a function, which will be also used in the other assignments. \n",
    "\n",
    "**Task 1 (TextPrepare).** Implement the function *text_prepare* following the instructions. After that, run the function *test_test_prepare* to test it on tiny cases and submit it to Coursera."
   ]
  },
  {
   "cell_type": "code",
   "execution_count": 80,
   "metadata": {
    "collapsed": true
   },
   "outputs": [],
   "source": [
    "#create a column with a single tag for those cases where we have multiple tags , \n",
    "#this will duplicate the title record several times , but the number of classes will be reduced drastically to 100\n",
    "\n",
    "# use appropiate dataset BOW or TF-IDF\n",
    "\n",
    "y_train=result.withColumn('tags_1',explode(split('tags',', ')))\n",
    "y_train=y_train.withColumn('tags_1',regexp_replace(y_train.tags_1, '[^A-Za-z0-9#+ ]+', ''))\n",
    "\n",
    "#y_val=val_trans.withColumn('tags_1',explode(split('tags',', ')))\n",
    "#y_val=y_val.withColumn('tags_1',regexp_replace(y_val.tags_1, '[^A-Za-z0-9#+ ]+', ''))\n"
   ]
  },
  {
   "cell_type": "code",
   "execution_count": 17,
   "metadata": {
    "collapsed": true
   },
   "outputs": [],
   "source": [
    "#y_val.filter(\"tags is NULL\").select('tags','tags_1').show()\n"
   ]
  },
  {
   "cell_type": "code",
   "execution_count": 18,
   "metadata": {
    "collapsed": true
   },
   "outputs": [],
   "source": [
    "#y_train.filter(\"tags is NULL\").select('tags', 'tags_1').show(n=200)"
   ]
  },
  {
   "cell_type": "code",
   "execution_count": 19,
   "metadata": {
    "collapsed": true
   },
   "outputs": [],
   "source": [
    "#y_train.filter('tags_1 like \"NoTag\"').select('filtered','tags','tags_1','tags_2').show()"
   ]
  },
  {
   "cell_type": "code",
   "execution_count": 20,
   "metadata": {
    "collapsed": true
   },
   "outputs": [],
   "source": [
    "#gdf=y_train.groupBy(\"tags_3\")\n",
    "#sorted(gdf.agg({\"*\": \"count\"}).collect())\n",
    "\n",
    "    #.orderBy(col(\"count\").desc()) \\\n",
    "    #.show(n=5)"
   ]
  },
  {
   "cell_type": "code",
   "execution_count": 21,
   "metadata": {
    "collapsed": true
   },
   "outputs": [],
   "source": [
    "#y_val.groupBy(\"tags_1\") \\\n",
    "#    .count() \\\n",
    "#    .orderBy(col(\"count\").desc()) \\\n",
    "#    .show(n=5)"
   ]
  },
  {
   "cell_type": "code",
   "execution_count": 81,
   "metadata": {
    "collapsed": true
   },
   "outputs": [],
   "source": [
    "#create a column label with thag categorized\n",
    "\"\"\"\n",
    "StringIndexer encodes a string column of labels to a column of label indices. The indices are in [0, numLabels), \n",
    "ordered by label frequencies, so the most frequent label gets index 0. The unseen labels will be put at index numLabels \n",
    "if user chooses to keep them. If the input column is numeric, we cast it to string and index the string values. \n",
    "When downstream pipeline components such as Estimator or Transformer make use of this string-indexed label, you must set \n",
    "the input column of the component to this string-indexed column name. In many cases, you can set the input column with \n",
    "setInputCol.\n",
    "\"\"\"\n",
    "label_stringIdx = StringIndexer(inputCol = \"tags_1\", outputCol = \"label\")\n",
    "\n",
    "dataset = label_stringIdx.fit(y_train).transform(y_train)\n",
    "#dataset2 = label_stringIdx.fit(y_val).transform(y_val)\n",
    "\n",
    "#dataset.select(\"tags_3\").distinct().count().show()"
   ]
  },
  {
   "cell_type": "code",
   "execution_count": 23,
   "metadata": {
    "collapsed": true
   },
   "outputs": [],
   "source": [
    "from pyspark.ml.feature import OneHotEncoderEstimator"
   ]
  },
  {
   "cell_type": "code",
   "execution_count": 24,
   "metadata": {},
   "outputs": [
    {
     "name": "stdout",
     "output_type": "stream",
     "text": [
      "+--------------------+--------------------+------------+--------------------+--------------------+--------------------+--------------------+--------------------+---------+---------------+\n",
      "|               title|                tags|      tags_1|               words|              tags_2|            filtered|         rawFeatures|            features|label_cat|          label|\n",
      "+--------------------+--------------------+------------+--------------------+--------------------+--------------------+--------------------+--------------------+---------+---------------+\n",
      "|how to draw a sta...|               ['r']|           r|[how, to, draw, a...|                 [r]|[draw, stacked, d...|(24000,[1570,8167...|(24000,[1570,8167...|     24.0|(99,[24],[1.0])|\n",
      "|mysql select all ...|    ['php', 'mysql']|         php|[mysql, select, a...|        [php, mysql]|[mysql, select, r...|(24000,[585,4768,...|(24000,[585,4768,...|      3.0| (99,[3],[1.0])|\n",
      "|mysql select all ...|    ['php', 'mysql']|       mysql|[mysql, select, a...|        [php, mysql]|[mysql, select, r...|(24000,[585,4768,...|(24000,[585,4768,...|     14.0|(99,[14],[1.0])|\n",
      "|how to terminate ...|              ['c#']|          c#|[how, to, termina...|                [c#]|[terminate, windo...|(24000,[798,2862,...|(24000,[798,2862,...|      1.0| (99,[1],[1.0])|\n",
      "|get current time ...|['javascript', 'j...|  javascript|[get, current, ti...|[javascript, jquery]|[get, current, ti...|(24000,[6710,1015...|(24000,[6710,1015...|      0.0| (99,[0],[1.0])|\n",
      "|get current time ...|['javascript', 'j...|      jquery|[get, current, ti...|[javascript, jquery]|[get, current, ti...|(24000,[6710,1015...|(24000,[6710,1015...|      5.0| (99,[5],[1.0])|\n",
      "|configuring tomca...|            ['java']|        java|[configuring, tom...|              [java]|[configuring, tom...|(24000,[2877,4489...|(24000,[2877,4489...|      2.0| (99,[2],[1.0])|\n",
      "|awesome nested se...|   ['ruby-on-rails']| rubyonrails|[awesome, nested,...|   [ruby, on, rails]|[awesome, nested,...|(24000,[593,999,4...|(24000,[593,999,4...|     11.0|(99,[11],[1.0])|\n",
      "|how to create map...|['ruby', 'ruby-on...|        ruby|[how, to, create,...|[ruby, ruby, on, ...|[create, map, jso...|(24000,[265,4331,...|(24000,[265,4331,...|     16.0|(99,[16],[1.0])|\n",
      "|how to create map...|['ruby', 'ruby-on...|rubyonrails3|[how, to, create,...|[ruby, ruby, on, ...|[create, map, jso...|(24000,[265,4331,...|(24000,[265,4331,...|     49.0|(99,[49],[1.0])|\n",
      "|how to create map...|['ruby', 'ruby-on...|        json|[how, to, create,...|[ruby, ruby, on, ...|[create, map, jso...|(24000,[265,4331,...|(24000,[265,4331,...|     18.0|(99,[18],[1.0])|\n",
      "|rspec test if met...|            ['ruby']|        ruby|[rspec, test, if,...|              [ruby]|[rspec, test, met...|(24000,[2654,7218...|(24000,[2654,7218...|     16.0|(99,[16],[1.0])|\n",
      "|springboot catali...|['java', 'spring'...|        java|[springboot, cata...|[java, spring, sp...|[springboot, cata...|(24000,[4544,6674...|(24000,[4544,6674...|      2.0| (99,[2],[1.0])|\n",
      "|springboot catali...|['java', 'spring'...|      spring|[springboot, cata...|[java, spring, sp...|[springboot, cata...|(24000,[4544,6674...|(24000,[4544,6674...|     31.0|(99,[31],[1.0])|\n",
      "|springboot catali...|['java', 'spring'...|   springmvc|[springboot, cata...|[java, spring, sp...|[springboot, cata...|(24000,[4544,6674...|(24000,[4544,6674...|     54.0|(99,[54],[1.0])|\n",
      "|how to import dat...|['php', 'codeigni...|         php|[how, to, import,...|  [php, codeigniter]|[import, data, ex...|(24000,[2401,8374...|(24000,[2401,8374...|      3.0| (99,[3],[1.0])|\n",
      "|how to import dat...|['php', 'codeigni...| codeigniter|[how, to, import,...|  [php, codeigniter]|[import, data, ex...|(24000,[2401,8374...|(24000,[2401,8374...|     44.0|(99,[44],[1.0])|\n",
      "|obtaining the obj...|   ['java', 'class']|        java|[obtaining, the, ...|       [java, class]|[obtaining, objec...|(24000,[2884,1034...|(24000,[2884,1034...|      2.0| (99,[2],[1.0])|\n",
      "|obtaining the obj...|   ['java', 'class']|       class|[obtaining, the, ...|       [java, class]|[obtaining, objec...|(24000,[2884,1034...|(24000,[2884,1034...|     65.0|(99,[65],[1.0])|\n",
      "|ipad not selectin...|['javascript', 'j...|  javascript|[ipad, not, selec...|[javascript, jque...|[ipad, selecting,...|(24000,[5084,1038...|(24000,[5084,1038...|      0.0| (99,[0],[1.0])|\n",
      "+--------------------+--------------------+------------+--------------------+--------------------+--------------------+--------------------+--------------------+---------+---------------+\n",
      "only showing top 20 rows\n",
      "\n"
     ]
    }
   ],
   "source": [
    "#One Hot Encoder, not suitable here as predictor is looking for a number and not a vector\n",
    "\"\"\"\n",
    "encoder = OneHotEncoderEstimator(inputCols=[\"label_cat\"],\n",
    "                                 outputCols=[\"label\"])\n",
    "model = encoder.fit(dataset)\n",
    "encoded = model.transform(dataset)\n",
    "encoded.show()\n",
    "\"\"\""
   ]
  },
  {
   "cell_type": "code",
   "execution_count": 25,
   "metadata": {
    "collapsed": true
   },
   "outputs": [],
   "source": [
    "#dataset.select(\"tags_3\").distinct().count()"
   ]
  },
  {
   "cell_type": "code",
   "execution_count": 82,
   "metadata": {},
   "outputs": [
    {
     "data": {
      "text/plain": [
       "100"
      ]
     },
     "execution_count": 82,
     "metadata": {},
     "output_type": "execute_result"
    }
   ],
   "source": [
    "dataset.select(\"tags_1\").distinct().count()\n",
    "#dataset2.select('tags_1','label').show(25)"
   ]
  },
  {
   "cell_type": "code",
   "execution_count": 83,
   "metadata": {},
   "outputs": [
    {
     "name": "stdout",
     "output_type": "stream",
     "text": [
      "+--------------------+------------+-----+\n",
      "|            features|      tags_1|label|\n",
      "+--------------------+------------+-----+\n",
      "|[0.08730552755150...|           r| 24.0|\n",
      "|[0.34796910732984...|         php|  3.0|\n",
      "|[0.34796910732984...|       mysql| 14.0|\n",
      "|[-0.0311543645026...|          c#|  1.0|\n",
      "|[0.06817806246025...|  javascript|  0.0|\n",
      "|[0.06817806246025...|      jquery|  5.0|\n",
      "|[0.05053890030831...|        java|  2.0|\n",
      "|[-0.0329051437671...| rubyonrails| 11.0|\n",
      "|[0.15660998384867...|        ruby| 16.0|\n",
      "|[0.15660998384867...|rubyonrails3| 49.0|\n",
      "|[0.15660998384867...|        json| 18.0|\n",
      "|[0.10343911964446...|        ruby| 16.0|\n",
      "|[-0.0068720909766...|        java|  2.0|\n",
      "|[-0.0068720909766...|      spring| 31.0|\n",
      "|[-0.0068720909766...|   springmvc| 54.0|\n",
      "|[0.17184817365237...|         php|  3.0|\n",
      "|[0.17184817365237...| codeigniter| 44.0|\n",
      "|[-0.0761974222170...|        java|  2.0|\n",
      "|[-0.0761974222170...|       class| 65.0|\n",
      "|[0.07230409234762...|  javascript|  0.0|\n",
      "|[0.07230409234762...|      jquery|  5.0|\n",
      "|[0.07230409234762...|        html|  7.0|\n",
      "|[0.07230409234762...|         ios| 12.0|\n",
      "|[0.06070376311739...|  javascript|  0.0|\n",
      "|[0.06070376311739...|      jquery|  5.0|\n",
      "+--------------------+------------+-----+\n",
      "only showing top 25 rows\n",
      "\n"
     ]
    }
   ],
   "source": [
    "dataset.select('features','tags_1','label').show(25)"
   ]
  },
  {
   "cell_type": "markdown",
   "metadata": {},
   "source": [
    "As you might notice, we transform the data to sparse representation, to store the useful information efficiently. There are many [types](https://docs.scipy.org/doc/scipy/reference/sparse.html) of such representations, however slkearn algorithms can work only with [csr](https://docs.scipy.org/doc/scipy/reference/generated/scipy.sparse.csr_matrix.html#scipy.sparse.csr_matrix) matrix, so we will use this one."
   ]
  },
  {
   "cell_type": "markdown",
   "metadata": {},
   "source": [
    "**Task 3 (BagOfWords).** For the 11th row in *X_train_mybag* find how many non-zero elements it has. In this task the answer (variable *non_zero_elements_count*) should be a number, e.g. 20."
   ]
  },
  {
   "cell_type": "markdown",
   "metadata": {},
   "source": [
    "#### TF-IDF\n",
    "\n",
    "The second approach extends the bag-of-words framework by taking into account total frequencies of words in the corpora. It helps to penalize too frequent words and provide better features space. \n",
    "\n",
    "Implement function *tfidf_features* using class [TfidfVectorizer](http://scikit-learn.org/stable/modules/generated/sklearn.feature_extraction.text.TfidfVectorizer.html) from *scikit-learn*. Use *train* corpus to train a vectorizer. Don't forget to take a look into the arguments that you can pass to it. We suggest that you filter out too rare words (occur less than in 5 titles) and too frequent words (occur more than in 90% of the titles). Also, use bigrams along with unigrams in your vocabulary. "
   ]
  },
  {
   "cell_type": "markdown",
   "metadata": {},
   "source": [
    "Implement the function *train_classifier* for training a classifier. In this task we suggest to use One-vs-Rest approach, which is implemented in [OneVsRestClassifier](http://scikit-learn.org/stable/modules/generated/sklearn.multiclass.OneVsRestClassifier.html) class. In this approach *k* classifiers (= number of tags) are trained. As a basic classifier, use [LogisticRegression](http://scikit-learn.org/stable/modules/generated/sklearn.linear_model.LogisticRegression.html). It is one of the simplest methods, but often it performs good enough in text classification tasks. It might take some time, because a number of classifiers to train is large."
   ]
  },
  {
   "cell_type": "code",
   "execution_count": 87,
   "metadata": {},
   "outputs": [],
   "source": [
    "train_set=dataset.select('features','label')\n",
    "#train_set.withColumnRenamed('Label_vec', 'label')\n",
    "#train_val=rescaledDatav.select('features','label')\n",
    "train,test=train_set.randomSplit([0.7,0.3])\n"
   ]
  },
  {
   "cell_type": "code",
   "execution_count": 88,
   "metadata": {
    "collapsed": true
   },
   "outputs": [],
   "source": [
    "#train_val.filter(\"features is NULL or label is NULL\").show()"
   ]
  },
  {
   "cell_type": "code",
   "execution_count": 89,
   "metadata": {},
   "outputs": [
    {
     "name": "stdout",
     "output_type": "stream",
     "text": [
      "+--------------------+-----+\n",
      "|            features|label|\n",
      "+--------------------+-----+\n",
      "|[-0.3263096362352...|  6.0|\n",
      "|[-0.3237328912530...|  1.0|\n",
      "|[-0.3237328912530...| 55.0|\n",
      "|[-0.3236532732844...|  2.0|\n",
      "|[-0.3236532732844...| 15.0|\n",
      "|[-0.3195231917003...|  1.0|\n",
      "|[-0.3195231917003...|  9.0|\n",
      "|[-0.3183089345499...|  0.0|\n",
      "|[-0.3183089345499...|  2.0|\n",
      "|[-0.3182319621555...|  1.0|\n",
      "|[-0.3172013629227...|  0.0|\n",
      "|[-0.3172013629227...| 93.0|\n",
      "|[-0.3145520538091...|  1.0|\n",
      "|[-0.3124032041523...|  3.0|\n",
      "|[-0.3092142727691...| 40.0|\n",
      "|[-0.3064487703765...|  3.0|\n",
      "|[-0.3005962437018...| 40.0|\n",
      "|[-0.2976422578096...| 34.0|\n",
      "|[-0.2976422578096...| 59.0|\n",
      "|[-0.2974332298229...|  0.0|\n",
      "+--------------------+-----+\n",
      "only showing top 20 rows\n",
      "\n"
     ]
    }
   ],
   "source": [
    "train.show()"
   ]
  },
  {
   "cell_type": "code",
   "execution_count": 90,
   "metadata": {},
   "outputs": [
    {
     "name": "stdout",
     "output_type": "stream",
     "text": [
      "135797\n",
      "58375\n"
     ]
    }
   ],
   "source": [
    "print(train.count())\n",
    "print(test.count())"
   ]
  },
  {
   "cell_type": "code",
   "execution_count": 91,
   "metadata": {},
   "outputs": [
    {
     "name": "stdout",
     "output_type": "stream",
     "text": [
      "+--------+-----+-----------+-----+----------+\n",
      "|features|label|probability|label|prediction|\n",
      "+--------+-----+-----------+-----+----------+\n",
      "+--------+-----+-----------+-----+----------+\n",
      "\n"
     ]
    }
   ],
   "source": [
    "lr = LogisticRegression(maxIter=10, regParam=0.3, elasticNetParam=0.8, family=\"multinomial\")\n",
    "lrModel = lr.fit(train)\n",
    "predictions = lrModel.transform(test)\n",
    "predictions.filter(predictions['prediction'] == 0) \\\n",
    "    .select(\"features\",\"label\",\"probability\",\"label\",\"prediction\") \\\n",
    "    .orderBy(\"probability\", ascending=False) \\\n",
    "    .show(n = 10, truncate = 30)"
   ]
  },
  {
   "cell_type": "code",
   "execution_count": 92,
   "metadata": {},
   "outputs": [
    {
     "data": {
      "text/plain": [
       "0.01751846519256916"
      ]
     },
     "execution_count": 92,
     "metadata": {},
     "output_type": "execute_result"
    }
   ],
   "source": [
    "evaluator = MulticlassClassificationEvaluator(predictionCol=\"prediction\")\n",
    "evaluator.evaluate(predictions)"
   ]
  },
  {
   "cell_type": "code",
   "execution_count": 93,
   "metadata": {
    "collapsed": true
   },
   "outputs": [],
   "source": [
    "    # instantiate the base classifier.\n",
    "    lr = LogisticRegression(maxIter=10, tol=1E-6, fitIntercept=True)\n",
    "\n",
    "    # instantiate the One Vs Rest Classifier.  \n",
    "    ovr = OneVsRest(classifier=lr)\n",
    "\n",
    "    # train the multiclass model.\n",
    "    ovrModel = ovr.fit(train)\n",
    "\n",
    "    # score the model on test data.\n",
    "    predictions = ovrModel.transform(test)\n",
    "\n",
    "    # obtain evaluator.\n",
    "    evaluator = MulticlassClassificationEvaluator(metricName=\"accuracy\")\n",
    "\n"
   ]
  },
  {
   "cell_type": "code",
   "execution_count": 94,
   "metadata": {},
   "outputs": [
    {
     "name": "stdout",
     "output_type": "stream",
     "text": [
      "Test Error = 0.686852\n"
     ]
    }
   ],
   "source": [
    "# compute the classification error on test data.\n",
    "accuracy = evaluator.evaluate(predictions)\n",
    "print(\"Test Error = %g\" % (1.0 - accuracy))\n",
    "# $example off$"
   ]
  },
  {
   "cell_type": "code",
   "execution_count": 95,
   "metadata": {},
   "outputs": [
    {
     "name": "stdout",
     "output_type": "stream",
     "text": [
      "root\n",
      " |-- features: vector (nullable = true)\n",
      " |-- label: double (nullable = false)\n",
      " |-- prediction: double (nullable = true)\n",
      "\n"
     ]
    }
   ],
   "source": [
    "predictions.printSchema()"
   ]
  },
  {
   "cell_type": "code",
   "execution_count": 96,
   "metadata": {},
   "outputs": [
    {
     "name": "stdout",
     "output_type": "stream",
     "text": [
      "+--------------------+-----+----------+\n",
      "|            features|label|prediction|\n",
      "+--------------------+-----+----------+\n",
      "|[-0.3263096362352...| 55.0|      59.0|\n",
      "|[-0.3195231917003...|  7.0|      51.0|\n",
      "|[-0.3195231917003...| 51.0|      51.0|\n",
      "|[-0.3182319621555...| 19.0|       2.0|\n",
      "|[-0.3172013629227...| 40.0|      40.0|\n",
      "|[-0.3145520538091...| 55.0|      59.0|\n",
      "|[-0.3092142727691...|  0.0|       2.0|\n",
      "|[-0.3092142727691...|  7.0|       2.0|\n",
      "|[-0.3005962437018...|  0.0|      40.0|\n",
      "|[-0.2976422578096...|  1.0|      59.0|\n",
      "|[-0.2976422578096...|  9.0|      59.0|\n",
      "|[-0.2976422578096...| 10.0|      59.0|\n",
      "|[-0.2960290387272...| 15.0|       2.0|\n",
      "|[-0.2751255961401...|  2.0|      15.0|\n",
      "|[-0.2751255961401...| 92.0|      15.0|\n",
      "|[-0.2749468266653...|  2.0|       2.0|\n",
      "|[-0.2721032863482...|  5.0|       5.0|\n",
      "|[-0.2682026606053...|  3.0|       2.0|\n",
      "|[-0.2676488929428...|  8.0|       6.0|\n",
      "|[-0.2676488929428...| 15.0|       6.0|\n",
      "+--------------------+-----+----------+\n",
      "only showing top 20 rows\n",
      "\n"
     ]
    }
   ],
   "source": [
    "predictions.show()"
   ]
  },
  {
   "cell_type": "code",
   "execution_count": null,
   "metadata": {
    "collapsed": true
   },
   "outputs": [],
   "source": [
    "\n",
    "# Train a Random Forest model.\n",
    "rf = RandomForestClassifier(labelCol=\"label\", featuresCol=\"features\", numTrees=12,  maxDepth=5, maxMemoryInMB=1024)\n",
    "\n",
    "# Chain RF in a Pipeline\n",
    "pipeline = Pipeline(stages=[rf])\n",
    "\n",
    "# Train model.\n",
    "model = rf.fit(train)\n",
    "\n",
    "# Make predictions.\n",
    "predictions = model.transform(test)\n"
   ]
  },
  {
   "cell_type": "code",
   "execution_count": 97,
   "metadata": {
    "collapsed": true
   },
   "outputs": [],
   "source": [
    "from pyspark.ml.classification import MultilayerPerceptronClassifier\n",
    "from pyspark.ml.evaluation import MulticlassClassificationEvaluator"
   ]
  },
  {
   "cell_type": "code",
   "execution_count": 98,
   "metadata": {
    "collapsed": true
   },
   "outputs": [],
   "source": [
    "# specify layers for the neural network:\n",
    "# input layer of size 4 (features), two intermediate of size 5 and 4\n",
    "# and output of size 3 (classes)\n",
    "layers = [30, 400 , 200, 100]"
   ]
  },
  {
   "cell_type": "code",
   "execution_count": 99,
   "metadata": {
    "collapsed": true
   },
   "outputs": [],
   "source": [
    "# create the trainer and set its parameters\n",
    "trainer = MultilayerPerceptronClassifier(maxIter=100, layers=layers, blockSize=1024, seed=1234)\n"
   ]
  },
  {
   "cell_type": "code",
   "execution_count": 100,
   "metadata": {
    "collapsed": true
   },
   "outputs": [],
   "source": [
    "# train the model\n",
    "model = trainer.fit(train)\n"
   ]
  },
  {
   "cell_type": "code",
   "execution_count": 101,
   "metadata": {
    "collapsed": true
   },
   "outputs": [],
   "source": [
    "# compute accuracy on the test set\n",
    "result = model.transform(test)"
   ]
  },
  {
   "cell_type": "code",
   "execution_count": 102,
   "metadata": {},
   "outputs": [
    {
     "name": "stdout",
     "output_type": "stream",
     "text": [
      "+--------------------+-----+--------------------+--------------------+----------+\n",
      "|            features|label|       rawPrediction|         probability|prediction|\n",
      "+--------------------+-----+--------------------+--------------------+----------+\n",
      "|[-0.3263096362352...| 55.0|[3.39891411795353...|[0.01361930924709...|       6.0|\n",
      "|[-0.3195231917003...|  7.0|[5.63922809927329...|[0.30675189374613...|       0.0|\n",
      "|[-0.3195231917003...| 51.0|[5.63922809927329...|[0.30675189374613...|       0.0|\n",
      "|[-0.3182319621555...| 19.0|[2.34687689881737...|[0.02212588483745...|       2.0|\n",
      "|[-0.3172013629227...| 40.0|[6.43084434313172...|[0.24612627622754...|       0.0|\n",
      "|[-0.3145520538091...| 55.0|[2.43267761346920...|[0.00838062899082...|       6.0|\n",
      "|[-0.3092142727691...|  0.0|[5.15608536870696...|[0.16421502124290...|       2.0|\n",
      "|[-0.3092142727691...|  7.0|[5.15608536870696...|[0.16421502124290...|       2.0|\n",
      "|[-0.3005962437018...|  0.0|[5.64968250296259...|[0.21119549024560...|       0.0|\n",
      "|[-0.2976422578096...|  1.0|[2.43566236660078...|[0.00705563967199...|       1.0|\n",
      "|[-0.2976422578096...|  9.0|[2.43566236660078...|[0.00705563967199...|       1.0|\n",
      "|[-0.2976422578096...| 10.0|[2.43566236660078...|[0.00705563967199...|       1.0|\n",
      "|[-0.2960290387272...| 15.0|[1.13331340300740...|[4.86720609695681...|       2.0|\n",
      "|[-0.2751255961401...|  2.0|[3.01670267022373...|[0.04175514119010...|       8.0|\n",
      "|[-0.2751255961401...| 92.0|[3.01670267022373...|[0.04175514119010...|       8.0|\n",
      "|[-0.2749468266653...|  2.0|[2.99265895594727...|[0.02292599517969...|       2.0|\n",
      "|[-0.2721032863482...|  5.0|[7.52707072506170...|[0.43657377496993...|       0.0|\n",
      "|[-0.2682026606053...|  3.0|[-0.0462134918159...|[8.67120320688029...|       2.0|\n",
      "|[-0.2676488929428...|  8.0|[1.72427280999906...|[0.00124486888594...|       6.0|\n",
      "|[-0.2676488929428...| 15.0|[1.72427280999906...|[0.00124486888594...|       6.0|\n",
      "+--------------------+-----+--------------------+--------------------+----------+\n",
      "only showing top 20 rows\n",
      "\n"
     ]
    }
   ],
   "source": [
    "result.show()"
   ]
  },
  {
   "cell_type": "code",
   "execution_count": 103,
   "metadata": {},
   "outputs": [
    {
     "name": "stdout",
     "output_type": "stream",
     "text": [
      "Test set accuracy = 0.2947665952890792\n"
     ]
    }
   ],
   "source": [
    "predictionAndLabels = result.select(\"prediction\", \"label\")\n",
    "evaluator = MulticlassClassificationEvaluator(metricName=\"accuracy\")\n",
    "print(\"Test set accuracy = \" + str(evaluator.evaluate(result)))"
   ]
  },
  {
   "cell_type": "code",
   "execution_count": null,
   "metadata": {
    "collapsed": true
   },
   "outputs": [],
   "source": []
  }
 ],
 "metadata": {
  "kernelspec": {
   "display_name": "Python 3",
   "language": "python",
   "name": "python3"
  },
  "language_info": {
   "codemirror_mode": {
    "name": "ipython",
    "version": 3
   },
   "file_extension": ".py",
   "mimetype": "text/x-python",
   "name": "python",
   "nbconvert_exporter": "python",
   "pygments_lexer": "ipython3",
   "version": "3.6.5"
  }
 },
 "nbformat": 4,
 "nbformat_minor": 2
}
